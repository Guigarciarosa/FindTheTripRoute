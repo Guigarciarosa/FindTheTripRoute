{
 "cells": [
  {
   "cell_type": "markdown",
   "source": [
    "# Colleting Data About Trips on Kaggle\r\n",
    "\r\n",
    "## Objective\r\n",
    "\r\n",
    "Collect data about trips and cities with kaggle."
   ],
   "metadata": {}
  },
  {
   "cell_type": "markdown",
   "source": [
    "# 1.0 Libs And Fuctions"
   ],
   "metadata": {}
  },
  {
   "cell_type": "code",
   "execution_count": null,
   "source": [
    "# import packages\r\n",
    "# packages of data manipulation\r\n",
    "import pandas as pd\r\n",
    "import pickle\r\n",
    "import time"
   ],
   "outputs": [],
   "metadata": {}
  },
  {
   "cell_type": "markdown",
   "source": [
    "# 2.0 Collect Data From kaggle\r\n"
   ],
   "metadata": {}
  },
  {
   "cell_type": "code",
   "execution_count": null,
   "source": [],
   "outputs": [],
   "metadata": {}
  },
  {
   "cell_type": "markdown",
   "source": [],
   "metadata": {}
  }
 ],
 "metadata": {
  "orig_nbformat": 4,
  "language_info": {
   "name": "python"
  }
 },
 "nbformat": 4,
 "nbformat_minor": 2
}